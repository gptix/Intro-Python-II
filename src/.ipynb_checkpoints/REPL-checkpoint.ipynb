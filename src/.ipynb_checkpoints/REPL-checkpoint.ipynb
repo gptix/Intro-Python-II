{
 "cells": [
  {
   "cell_type": "code",
   "execution_count": 64,
   "metadata": {},
   "outputs": [
    {
     "ename": "ImportError",
     "evalue": "cannot import name 'Item' from 'item' (/home/gt/gitstuff/lambda-school/Intro-Python-II/src/item.py)",
     "output_type": "error",
     "traceback": [
      "\u001b[0;31m---------------------------------------------------------------------------\u001b[0m",
      "\u001b[0;31mImportError\u001b[0m                               Traceback (most recent call last)",
      "\u001b[0;32m<ipython-input-64-51ae17f23062>\u001b[0m in \u001b[0;36m<module>\u001b[0;34m\u001b[0m\n\u001b[0;32m----> 1\u001b[0;31m \u001b[0;32mfrom\u001b[0m \u001b[0mitem\u001b[0m \u001b[0;32mimport\u001b[0m \u001b[0mItem\u001b[0m\u001b[0;34m\u001b[0m\u001b[0;34m\u001b[0m\u001b[0m\n\u001b[0m\u001b[1;32m      2\u001b[0m \u001b[0;32mfrom\u001b[0m \u001b[0mroom\u001b[0m \u001b[0;32mimport\u001b[0m \u001b[0mRoom\u001b[0m\u001b[0;34m\u001b[0m\u001b[0;34m\u001b[0m\u001b[0m\n\u001b[1;32m      3\u001b[0m \u001b[0;32mfrom\u001b[0m \u001b[0mplayer\u001b[0m \u001b[0;32mimport\u001b[0m \u001b[0mPlayer\u001b[0m\u001b[0;34m\u001b[0m\u001b[0;34m\u001b[0m\u001b[0m\n",
      "\u001b[0;31mImportError\u001b[0m: cannot import name 'Item' from 'item' (/home/gt/gitstuff/lambda-school/Intro-Python-II/src/item.py)"
     ]
    }
   ],
   "source": [
    "from item import Item\n",
    "from room import Room\n",
    "from player import Player\n"
   ]
  },
  {
   "cell_type": "code",
   "execution_count": 61,
   "metadata": {},
   "outputs": [],
   "source": [
    "\n"
   ]
  },
  {
   "cell_type": "code",
   "execution_count": 2,
   "metadata": {},
   "outputs": [],
   "source": [
    "direction_letter_name = {'n': 'North', 'e': 'East', 's': 'South', 'w': 'West'}\n",
    "direction_letters = direction_letter_name.keys()"
   ]
  },
  {
   "cell_type": "code",
   "execution_count": 5,
   "metadata": {},
   "outputs": [],
   "source": [
    "room = {\n",
    "    'outside':  Room(\"Outside Cave Entrance\",\n",
    "                     \"North of you, the cave mount beckons\"),\n",
    "\n",
    "    'foyer':    Room(\"Foyer\", \"\"\"Dim light filters in from the south. Dusty\n",
    "passages run north and east.\"\"\"),\n",
    "\n",
    "    'overlook': Room(\"Grand Overlook\", \"\"\"A steep cliff appears before you, falling\n",
    "into the darkness. Ahead to the north, a light flickers in\n",
    "the distance, but there is no way across the chasm.\"\"\"),\n",
    "\n",
    "    'narrow':   Room(\"Narrow Passage\", \"\"\"The narrow passage bends here from west\n",
    "to north. The smell of gold permeates the air.\"\"\"),\n",
    "\n",
    "    'treasure': Room(\"Treasure Chamber\", \"\"\"You've found the long-lost treasure\n",
    "chamber! Sadly, it has already been completely emptied by\n",
    "earlier adventurers. The only exit is to the south.\"\"\"),\n",
    "}\n"
   ]
  },
  {
   "cell_type": "code",
   "execution_count": 7,
   "metadata": {},
   "outputs": [],
   "source": [
    "room['outside'].n_to = room['foyer']\n",
    "room['foyer'].s_to = room['outside']\n",
    "room['foyer'].n_to = room['overlook']\n",
    "room['foyer'].e_to = room['narrow']\n",
    "room['overlook'].s_to = room['foyer']\n",
    "room['narrow'].w_to = room['foyer']\n",
    "room['narrow'].n_to = room['treasure']\n",
    "room['treasure'].s_to = room['narrow']"
   ]
  },
  {
   "cell_type": "code",
   "execution_count": 8,
   "metadata": {},
   "outputs": [],
   "source": [
    "player_1 = Player(room['outside'])"
   ]
  },
  {
   "cell_type": "code",
   "execution_count": 29,
   "metadata": {},
   "outputs": [],
   "source": [
    "def is_movement_possible(direction):\n",
    "    possible_movement_attribute = direction + '_to'\n",
    "    return hasattr(player_1.current_room, possible_movement_attribute)\n",
    "    "
   ]
  },
  {
   "cell_type": "code",
   "execution_count": 50,
   "metadata": {},
   "outputs": [],
   "source": [
    "def move(direction):\n",
    "    to = direction + '_to'\n",
    "    player_1.current_room = getattr(player_1.current_room, to)\n",
    "    "
   ]
  },
  {
   "cell_type": "code",
   "execution_count": null,
   "metadata": {},
   "outputs": [],
   "source": []
  },
  {
   "cell_type": "code",
   "execution_count": null,
   "metadata": {},
   "outputs": [],
   "source": [
    "def get_item(item):\n",
    "    player_1.items.append(item)    "
   ]
  },
  {
   "cell_type": "code",
   "execution_count": 53,
   "metadata": {},
   "outputs": [],
   "source": [
    "def game_loop():\n",
    "    while True:\n",
    "        print()\n",
    "        print(f'You are currently in room {player_1.current_room.name}.')\n",
    "        print(f'{player_1.current_room.description}')\n",
    "        print(f'You see these item(s): {player_1.current_room.items}')'\n",
    "        \n",
    "        \n",
    "        action = input('What shall we do?')\n",
    "        \n",
    "        if action == 'q':\n",
    "            print(\"You did super! See you again, soon!\")\n",
    "            break      \n",
    "            \n",
    "        elif action in direction_letters:\n",
    "            if is_movement_possible(action):\n",
    "                print(f'We boldly go {direction_letter_name[action]}!')\n",
    "                move(action)\n",
    "                \n",
    "            else:\n",
    "                print(f'Stymied! There is no way to move {direction_letter_name[action]}!')\n",
    "                \n",
    "        else: \n",
    "            print(\"Please enter one of [n, e, s, w, q (for quit).]\")"
   ]
  },
  {
   "cell_type": "code",
   "execution_count": 54,
   "metadata": {},
   "outputs": [
    {
     "name": "stdout",
     "output_type": "stream",
     "text": [
      "\n",
      "You are currently Outside Cave Entrance.\n",
      "North of you, the cave mount beckons\n"
     ]
    },
    {
     "name": "stdin",
     "output_type": "stream",
     "text": [
      "What shall we do? s\n"
     ]
    },
    {
     "name": "stdout",
     "output_type": "stream",
     "text": [
      "Stymied! There is no way to move South!\n",
      "\n",
      "You are currently Outside Cave Entrance.\n",
      "North of you, the cave mount beckons\n"
     ]
    },
    {
     "name": "stdin",
     "output_type": "stream",
     "text": [
      "What shall we do? n\n"
     ]
    },
    {
     "name": "stdout",
     "output_type": "stream",
     "text": [
      "We boldly go North!\n",
      "\n",
      "You are currently Foyer.\n",
      "Dim light filters in from the south. Dusty\n",
      "passages run north and east.\n"
     ]
    },
    {
     "name": "stdin",
     "output_type": "stream",
     "text": [
      "What shall we do? n\n"
     ]
    },
    {
     "name": "stdout",
     "output_type": "stream",
     "text": [
      "We boldly go North!\n",
      "\n",
      "You are currently Grand Overlook.\n",
      "A steep cliff appears before you, falling\n",
      "into the darkness. Ahead to the north, a light flickers in\n",
      "the distance, but there is no way across the chasm.\n"
     ]
    },
    {
     "name": "stdin",
     "output_type": "stream",
     "text": [
      "What shall we do? q\n"
     ]
    },
    {
     "name": "stdout",
     "output_type": "stream",
     "text": [
      "You did super! See you again, soon!\n"
     ]
    }
   ],
   "source": [
    "game_loop()"
   ]
  },
  {
   "cell_type": "code",
   "execution_count": null,
   "metadata": {},
   "outputs": [],
   "source": [
    "# Add functionality to the main loop that prints out all the items \n",
    "# that are visible to the player when they are in that room.\n",
    "\n",
    "add_simgle_item()"
   ]
  }
 ],
 "metadata": {
  "kernelspec": {
   "display_name": "Python 3",
   "language": "python",
   "name": "python3"
  },
  "language_info": {
   "codemirror_mode": {
    "name": "ipython",
    "version": 3
   },
   "file_extension": ".py",
   "mimetype": "text/x-python",
   "name": "python",
   "nbconvert_exporter": "python",
   "pygments_lexer": "ipython3",
   "version": "3.7.6"
  }
 },
 "nbformat": 4,
 "nbformat_minor": 4
}
