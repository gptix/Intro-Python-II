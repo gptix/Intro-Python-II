{
 "cells": [
  {
   "cell_type": "code",
   "execution_count": 1,
   "metadata": {},
   "outputs": [],
   "source": [
    "from item import Item\n",
    "from room import Room\n",
    "from player import Player\n"
   ]
  },
  {
   "cell_type": "code",
   "execution_count": 2,
   "metadata": {},
   "outputs": [],
   "source": [
    "direction_letter_name = {'n': 'North', 'e': 'East', 's': 'South', 'w': 'West'}\n",
    "direction_letters = direction_letter_name.keys()\n"
   ]
  },
  {
   "cell_type": "code",
   "execution_count": 3,
   "metadata": {},
   "outputs": [],
   "source": [
    "room = {\n",
    "    'outside':  Room(\"Outside Cave Entrance\",\n",
    "                     \"North of you, the cave mount beckons\"),\n",
    "\n",
    "    'foyer':    Room(\"Foyer\", \"\"\"Dim light filters in from the south. Dusty\n",
    "passages run north and east.\"\"\"),\n",
    "\n",
    "    'overlook': Room(\"Grand Overlook\", \"\"\"A steep cliff appears before you, falling\n",
    "into the darkness. Ahead to the north, a light flickers in\n",
    "the distance, but there is no way across the chasm.\"\"\"),\n",
    "\n",
    "    'narrow':   Room(\"Narrow Passage\", \"\"\"The narrow passage bends here from west\n",
    "to north. The smell of gold permeates the air.\"\"\"),\n",
    "\n",
    "    'treasure': Room(\"Treasure Chamber\", \"\"\"You've found the long-lost treasure\n",
    "chamber! Sadly, it has already been completely emptied by\n",
    "earlier adventurers. The only exit is to the south.\"\"\"),\n",
    "}"
   ]
  },
  {
   "cell_type": "code",
   "execution_count": 4,
   "metadata": {},
   "outputs": [],
   "source": [
    "room['outside'].n_to = room['foyer']\n",
    "room['foyer'].s_to = room['outside']\n",
    "room['foyer'].n_to = room['overlook']\n",
    "room['foyer'].e_to = room['narrow']\n",
    "room['overlook'].s_to = room['foyer']\n",
    "room['narrow'].w_to = room['foyer']\n",
    "room['narrow'].n_to = room['treasure']\n",
    "room['treasure'].s_to = room['narrow']"
   ]
  },
  {
   "cell_type": "code",
   "execution_count": 5,
   "metadata": {},
   "outputs": [],
   "source": [
    "item = {\n",
    "    'torch': Item('tiki', 'A Hawaiian-looking torch'),\n",
    "    'sword': Item('sword', 'A rusty sword'),\n",
    "    'jewel': Item('emerald', 'A shiny green rock'),\n",
    "    'nail': Item('nail', 'Just a nail'),\n",
    "    'flask': Item('flask', 'A flask with a mysterious liquid'),\n",
    "    'scroll': Item('scroll', 'A rolled up parchment'),\n",
    "    'bag': Item('coinbag', 'A leather pouch of shiny doubloons')\n",
    "}"
   ]
  },
  {
   "cell_type": "code",
   "execution_count": 6,
   "metadata": {},
   "outputs": [],
   "source": [
    "# Assignments of items to rooms\n",
    "item_room_setup = [\n",
    "('outside', 'torch'),\n",
    "('foyer', 'sword'),\n",
    "('foyer','nail'),\n",
    "('foyer', 'flask'),\n",
    "('overlook', 'jewel'),\n",
    "('narrow', 'flask'),\n",
    "('narrow','scroll'),\n",
    "('treasure','bag')\n",
    "]"
   ]
  },
  {
   "cell_type": "code",
   "execution_count": 7,
   "metadata": {},
   "outputs": [],
   "source": [
    "for pair in item_room_setup:\n",
    "    my_room = room[pair[0]]\n",
    "    my_item = item[pair[1]]\n",
    "    my_room.add_item(my_item)\n"
   ]
  },
  {
   "cell_type": "code",
   "execution_count": 8,
   "metadata": {},
   "outputs": [],
   "source": [
    "player_1 = Player(room['outside'])"
   ]
  },
  {
   "cell_type": "code",
   "execution_count": 9,
   "metadata": {},
   "outputs": [],
   "source": [
    "def print_hints():\n",
    "    print()\n",
    "    print(\"move commands (single letter) n, e, s, or w\")\n",
    "    print(\"Or, 'get <thing>'', or 'drop <thing>'\")\n",
    "    print(\"To quit, q\")\n",
    "    print(\"Currently, lowercase only.\")\n",
    "    "
   ]
  },
  {
   "cell_type": "code",
   "execution_count": 10,
   "metadata": {},
   "outputs": [],
   "source": [
    "def pick_up_thing(player, room, thing_name):\n",
    "    thing = room.remove(thing_name)\n",
    "    if thing:\n",
    "#         print(thing)\n",
    "        player.take(thing)"
   ]
  },
  {
   "cell_type": "code",
   "execution_count": 11,
   "metadata": {},
   "outputs": [],
   "source": [
    "def drop_thing(player, room, thing_name):\n",
    "    thing = player.drop(thing_name)\n",
    "    if thing:\n",
    "#         print(thing)\n",
    "        room.add_item(thing)\n",
    "    "
   ]
  },
  {
   "cell_type": "code",
   "execution_count": 12,
   "metadata": {},
   "outputs": [],
   "source": [
    "def game_loop():\n",
    "    while True:\n",
    "        this_room = player_1.current_room\n",
    "        \n",
    "        this_room.describe()\n",
    "        \n",
    "        player_1.describe()\n",
    "\n",
    "        commands = input('What shall we do?').split()\n",
    "        command_count = len(commands)\n",
    "        \n",
    "        if command_count == 1:\n",
    "            action = commands[0]\n",
    "            if action == 'q':\n",
    "                print(\"You did super! See you again, soon!\")\n",
    "                break      \n",
    "                \n",
    "            elif action in direction_letters:\n",
    "                if this_room.movement_is_possible(action):\n",
    "                    print(f'We boldly go {direction_letter_name[action]}!')\n",
    "                    player_1.move(action)\n",
    "                else:\n",
    "                    print(f'Stymied! There is no way to move {direction_letter_name[action]}!')  \n",
    "            else: \n",
    "                print_hints()\n",
    "       \n",
    "        elif command_count == 2:\n",
    "            if commands[0] == 'get':\n",
    "                thing = commands[1]\n",
    "                pick_up_thing(player_1, this_room, thing)\n",
    "                print (\"You get the \" + commands[1])\n",
    "            elif commands[0] == 'drop':\n",
    "                drop_thing(player_1, this_room, thing)\n",
    "                print (\"You drop the \" + commands[1])\n",
    "            else:\n",
    "                print_hints()\n",
    "                \n",
    "        else:\n",
    "             print_hints()"
   ]
  },
  {
   "cell_type": "code",
   "execution_count": 15,
   "metadata": {},
   "outputs": [],
   "source": [
    "def __main__():\n",
    "    game_loop()\n"
   ]
  }
 ],
 "metadata": {
  "kernelspec": {
   "display_name": "Python 3",
   "language": "python",
   "name": "python3"
  },
  "language_info": {
   "codemirror_mode": {
    "name": "ipython",
    "version": 3
   },
   "file_extension": ".py",
   "mimetype": "text/x-python",
   "name": "python",
   "nbconvert_exporter": "python",
   "pygments_lexer": "ipython3",
   "version": "3.7.6"
  }
 },
 "nbformat": 4,
 "nbformat_minor": 4
}
