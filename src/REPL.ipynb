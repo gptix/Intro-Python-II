{
 "cells": [
  {
   "cell_type": "code",
   "execution_count": 1,
   "metadata": {},
   "outputs": [],
   "source": [
    "from item import Item\n",
    "from room import Room\n",
    "from player import Player\n"
   ]
  },
  {
   "cell_type": "code",
   "execution_count": null,
   "metadata": {},
   "outputs": [],
   "source": []
  },
  {
   "cell_type": "code",
   "execution_count": 2,
   "metadata": {},
   "outputs": [],
   "source": [
    "direction_letter_name = {'n': 'North', 'e': 'East', 's': 'South', 'w': 'West'}\n",
    "direction_letters = direction_letter_name.keys()"
   ]
  },
  {
   "cell_type": "code",
   "execution_count": 3,
   "metadata": {},
   "outputs": [],
   "source": [
    "room = {\n",
    "    'outside':  Room(\"Outside Cave Entrance\",\n",
    "                     \"North of you, the cave mount beckons\"),\n",
    "\n",
    "    'foyer':    Room(\"Foyer\", \"\"\"Dim light filters in from the south. Dusty\n",
    "passages run north and east.\"\"\"),\n",
    "\n",
    "    'overlook': Room(\"Grand Overlook\", \"\"\"A steep cliff appears before you, falling\n",
    "into the darkness. Ahead to the north, a light flickers in\n",
    "the distance, but there is no way across the chasm.\"\"\"),\n",
    "\n",
    "    'narrow':   Room(\"Narrow Passage\", \"\"\"The narrow passage bends here from west\n",
    "to north. The smell of gold permeates the air.\"\"\"),\n",
    "\n",
    "    'treasure': Room(\"Treasure Chamber\", \"\"\"You've found the long-lost treasure\n",
    "chamber! Sadly, it has already been completely emptied by\n",
    "earlier adventurers. The only exit is to the south.\"\"\"),\n",
    "}\n"
   ]
  },
  {
   "cell_type": "code",
   "execution_count": 4,
   "metadata": {},
   "outputs": [],
   "source": [
    "room['outside'].n_to = room['foyer']\n",
    "room['foyer'].s_to = room['outside']\n",
    "room['foyer'].n_to = room['overlook']\n",
    "room['foyer'].e_to = room['narrow']\n",
    "room['overlook'].s_to = room['foyer']\n",
    "room['narrow'].w_to = room['foyer']\n",
    "room['narrow'].n_to = room['treasure']\n",
    "room['treasure'].s_to = room['narrow']"
   ]
  },
  {
   "cell_type": "code",
   "execution_count": 5,
   "metadata": {},
   "outputs": [],
   "source": [
    "player_1 = Player(room['outside'])"
   ]
  },
  {
   "cell_type": "code",
   "execution_count": 6,
   "metadata": {},
   "outputs": [],
   "source": [
    "def is_movement_possible(direction):\n",
    "    possible_movement_attribute = direction + '_to'\n",
    "    return hasattr(player_1.current_room, possible_movement_attribute)\n",
    "    "
   ]
  },
  {
   "cell_type": "code",
   "execution_count": 7,
   "metadata": {},
   "outputs": [],
   "source": [
    "def move(direction):\n",
    "    to = direction + '_to'\n",
    "    player_1.current_room = getattr(player_1.current_room, to)\n",
    "    "
   ]
  },
  {
   "cell_type": "code",
   "execution_count": null,
   "metadata": {},
   "outputs": [],
   "source": []
  },
  {
   "cell_type": "code",
   "execution_count": 8,
   "metadata": {},
   "outputs": [],
   "source": [
    "def get_item(item):\n",
    "    player_1.items.append(item)    "
   ]
  },
  {
   "cell_type": "code",
   "execution_count": 30,
   "metadata": {},
   "outputs": [],
   "source": [
    "def game_loop():\n",
    "    while True:\n",
    "        print()\n",
    "        print(f'You are currently in room {player_1.current_room.name}.')\n",
    "        print(f'{player_1.current_room.description}')\n",
    "        sep = ', '\n",
    "        print(f'You see these item(s): {sep.join(player_1.current_room.items)}')\n",
    "        \n",
    "        \n",
    "        action = input('What shall we do?')\n",
    "        \n",
    "        if action == 'q':\n",
    "            print(\"You did super! See you again, soon!\")\n",
    "            break      \n",
    "            \n",
    "        elif action in direction_letters:\n",
    "            if is_movement_possible(action):\n",
    "                print(f'We boldly go {direction_letter_name[action]}!')\n",
    "                move(action)\n",
    "                \n",
    "            else:\n",
    "                print(f'Stymied! There is no way to move {direction_letter_name[action]}!')\n",
    "                \n",
    "        else: \n",
    "            print(\"Please enter one of [n, e, s, w, q (for quit).]\")"
   ]
  },
  {
   "cell_type": "code",
   "execution_count": 26,
   "metadata": {},
   "outputs": [
    {
     "name": "stdout",
     "output_type": "stream",
     "text": [
      "\n",
      "You are currently in room Foyer.\n",
      "Dim light filters in from the south. Dusty\n",
      "passages run north and east.\n",
      "You see these item(s): []\n"
     ]
    },
    {
     "name": "stdin",
     "output_type": "stream",
     "text": [
      "What shall we do? e\n"
     ]
    },
    {
     "name": "stdout",
     "output_type": "stream",
     "text": [
      "We boldly go East!\n",
      "\n",
      "You are currently in room Narrow Passage.\n",
      "The narrow passage bends here from west\n",
      "to north. The smell of gold permeates the air.\n",
      "You see these item(s): []\n"
     ]
    },
    {
     "name": "stdin",
     "output_type": "stream",
     "text": [
      "What shall we do? x\n"
     ]
    },
    {
     "name": "stdout",
     "output_type": "stream",
     "text": [
      "Please enter one of [n, e, s, w, q (for quit).]\n",
      "\n",
      "You are currently in room Narrow Passage.\n",
      "The narrow passage bends here from west\n",
      "to north. The smell of gold permeates the air.\n",
      "You see these item(s): []\n"
     ]
    },
    {
     "name": "stdin",
     "output_type": "stream",
     "text": [
      "What shall we do? q\n"
     ]
    },
    {
     "name": "stdout",
     "output_type": "stream",
     "text": [
      "You did super! See you again, soon!\n"
     ]
    }
   ],
   "source": [
    "game_loop()"
   ]
  },
  {
   "cell_type": "code",
   "execution_count": 16,
   "metadata": {},
   "outputs": [],
   "source": [
    "# add_simgle_itemfunctionality to the main loop that prints out all the items \n",
    "# that are visible to the player when they are in that room.\n",
    "\n",
    "def add_single_item(name, description):\n",
    "    return Item(name, description)\n",
    "    "
   ]
  },
  {
   "cell_type": "code",
   "execution_count": 22,
   "metadata": {},
   "outputs": [],
   "source": [
    "luthor = add_single_item('sword', \"rusty\")\n",
    "betty = add_single_item('dirk', 'shiny')\n",
    "my_items = [luthor, betty]"
   ]
  },
  {
   "cell_type": "code",
   "execution_count": 23,
   "metadata": {},
   "outputs": [
    {
     "data": {
      "text/plain": [
       "['sword', 'dirk']"
      ]
     },
     "execution_count": 23,
     "metadata": {},
     "output_type": "execute_result"
    }
   ],
   "source": [
    "[i.name for i in my_items]"
   ]
  },
  {
   "cell_type": "code",
   "execution_count": 20,
   "metadata": {},
   "outputs": [
    {
     "data": {
      "text/plain": [
       "'sword'"
      ]
     },
     "execution_count": 20,
     "metadata": {},
     "output_type": "execute_result"
    }
   ],
   "source": [
    "luthor.name"
   ]
  },
  {
   "cell_type": "code",
   "execution_count": 25,
   "metadata": {},
   "outputs": [
    {
     "name": "stdout",
     "output_type": "stream",
     "text": [
      "['sword', 'dirk']\n"
     ]
    }
   ],
   "source": [
    "from pprint import pprint\n",
    "print([i.name for i in my_items])"
   ]
  },
  {
   "cell_type": "code",
   "execution_count": 27,
   "metadata": {},
   "outputs": [
    {
     "name": "stdout",
     "output_type": "stream",
     "text": [
      "\u001b[1;32;40m Bright Green \n",
      "\n"
     ]
    }
   ],
   "source": [
    "print(\"\\033[1;32;40m Bright Green \\n\") \n"
   ]
  }
 ],
 "metadata": {
  "kernelspec": {
   "display_name": "Python 3",
   "language": "python",
   "name": "python3"
  },
  "language_info": {
   "codemirror_mode": {
    "name": "ipython",
    "version": 3
   },
   "file_extension": ".py",
   "mimetype": "text/x-python",
   "name": "python",
   "nbconvert_exporter": "python",
   "pygments_lexer": "ipython3",
   "version": "3.7.6"
  }
 },
 "nbformat": 4,
 "nbformat_minor": 4
}
